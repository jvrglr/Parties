{
 "cells": [
  {
   "cell_type": "markdown",
   "metadata": {},
   "source": [
    "# Things to do\n",
    "1. Write code  \n",
    "2. Read bibliography (Parties, surface adhesion,...?)  \n",
    "3. Vary parameters and make plots \n",
    "    -The first thing is to fix dt,L and D. Once they are selected they should not change!\n",
    "4. Think on experiment \n",
    "\n",
    "# Description\n",
    "Model for dynamical cluster formation in social events. This can also be seen as a preliminary work to study the formation of contact matrices. The dynamics for the individuals should satisfy:\n",
    "- Be simple.\n",
    "- Individual modeling with partial perception (collective behavior must emerge in a natural way).\n",
    "- A Dynamical phase should emerge and be robust. No formation of giant component.\n",
    "- The theory is neutral (there is no differences among the individuals).\n",
    "\n",
    "\n",
    "# Things to discuss\n",
    "Javi-About the model: I would stick with the easiest brownian motion as the mobility model for the agents. Despite it is not realistic (the movement of a person resembles more a persistent model such as the run and tumble model and there should be distant-dependent iterations), I think that is useful not to enter in these particular details. I don't think that our conclusions will depend on this particularities and moreover they could distract the reader. "
   ]
  },
  {
   "cell_type": "code",
   "execution_count": 183,
   "metadata": {},
   "outputs": [],
   "source": [
    "#Libraries\n",
    "#%matplotlib notebook\n",
    "import sys\n",
    "from scipy.optimize import curve_fit\n",
    "import numpy as np\n",
    "import networkx as nx\n",
    "import matplotlib.pyplot as plt\n",
    "import time\n",
    "import math \n",
    "import pandas as pd\n",
    "from mpl_toolkits.mplot3d import Axes3D  # noqa: F401 unused import\n",
    "from matplotlib import cm\n",
    "from matplotlib.ticker import LinearLocator, FormatStrFormatter\n",
    "import matplotlib.patches as mpatches\n",
    "%matplotlib inline\n"
   ]
  },
  {
   "cell_type": "code",
   "execution_count": 191,
   "metadata": {},
   "outputs": [],
   "source": [
    "#Parameters\n",
    "L=10 #Size of box LxL\n",
    "N=20 #Number of agents\n",
    "D=0.1 #Diffusion constant (FIX VALUE)\n",
    "dt=0.01 #Time increment\n",
    "sh=np.sqrt(D*dt)\n",
    "tmax=5.0 #Run simulation until time tmax\n",
    "itmax=int(round(tmax/dt))\n",
    "r0=0.2 #If |r_i-r_j|<r0 then agents i and j forms a \"social link\" and stop moving\n",
    "w=2.0 #1/w is the typical time scale for going to the bathroom  \n",
    "pb=1.0-np.exp(-dt*w)\n",
    "r=np.array([np.random.uniform(low=0,high=L,size=2) for i in range(N)]) #r[i]=(x_i,y_i)=position vector of agent i\n",
    "v=np.zeros(N,dtype=int) #If v[i]=0, then agent i is moving and do not have a social link, if v[i]=1 then agent i\n",
    "                        # cannot move and is part of a social community"
   ]
  },
  {
   "cell_type": "code",
   "execution_count": 192,
   "metadata": {
    "scrolled": true
   },
   "outputs": [],
   "source": [
    "#Functions\n",
    "def Plot_state(save):\n",
    "    '''\n",
    "    Plot current state of system at iteration it.\n",
    "    I recommend the creation of a folder named figures for saving the plots.\n",
    "    If save=True then save fig in file, else just plot it.\n",
    "    '''\n",
    "    plt.title(r\"$t=$\"+str(it*dt))\n",
    "    plt.xlim(0,L)\n",
    "    plt.ylim(0,L)\n",
    "    plt.scatter(r.T[0],r.T[1],alpha=0.5,color=\"salmon\")\n",
    "    for i in range(N):\n",
    "        if v[i]==1:\n",
    "            plt.scatter(r[i][0],r[i][1],alpha=1.0,color=\"skyblue\") #Not moving agents\n",
    "    if(save):\n",
    "        plt.savefig(\"figures/snapshot_t_\"+str(it)+\".png\",dpi=300)\n",
    "    else:\n",
    "        plt.show()\n",
    "    plt.close()\n",
    "\n",
    "def RBC(r):\n",
    "    '''\n",
    "    Implement Reflecting Boundary Conditions\n",
    "    '''\n",
    "    r[r>L]=2*L-r[r>L]\n",
    "    r[r<0]=-r[r<0]\n",
    "    \n",
    "def move(r):\n",
    "    '''\n",
    "    If agent does not belong to a social link, then move.\n",
    "    (not important code note: If agents do not freeze, I can move all of them with r+=sh*np.array([np.random.normal(size=2) for i in range(N)]))\n",
    "    '''\n",
    "    for i in range(N):\n",
    "        if v[i]==0:\n",
    "            r[i]+=sh*np.random.normal(size=2) #Integrate position\n",
    "            #TO INCLUDE FORCE: r[i]+=dt*F(r)+sh*np.random.normal(size=2)\n",
    "            \n",
    "def createlink(v):\n",
    "    '''\n",
    "    Identify agents that are close enough to create a social link.\n",
    "    Javi:I bet that this can be done in a more efficient way, but I don't think is very important.\n",
    "    '''\n",
    "    for i in range(N):\n",
    "        for j in range(N):\n",
    "            if ((i!=j) and (np.linalg.norm(r[i]-r[j]) <=r0)):\n",
    "                v[i]=1\n",
    "                v[j]=1\n",
    "                \n",
    "def destroylink(v):\n",
    "    '''\n",
    "    If an agent is in a social link, it can be destroyed with a constant rate w--> poissonian process\n",
    "    '''\n",
    "    for i in range(N):\n",
    "        if v[i]==1:\n",
    "            if np.random.uniform()<=pb: #Bathroom urgency\n",
    "                v[i]=0\n",
    "                r[i]=np.random.uniform(low=0,high=L,size=2) #Teleportation\n",
    "                #Are there isolated nodes?\n",
    "                for j in range(N):\n",
    "                    if v[j]==1:\n",
    "                        for k in range(N):\n",
    "                            Isolated=True\n",
    "                            if ((j!=k) and (np.linalg.norm(r[j]-r[k]) <=r0)):\n",
    "                                Isolated=False\n",
    "                                break\n",
    "                            if (Isolated):\n",
    "                                v[j]=0\n",
    "\n",
    "                "
   ]
  },
  {
   "cell_type": "code",
   "execution_count": 193,
   "metadata": {},
   "outputs": [
    {
     "name": "stdout",
     "output_type": "stream",
     "text": [
      "Time spend in runing main (mins)= 1.8729427258173625\n"
     ]
    }
   ],
   "source": [
    "#Main program\n",
    "start = time.time()\n",
    "\n",
    "for it in range(itmax):\n",
    "    move(r) #r(t)->r(t+dt)\n",
    "    RBC(r) # Reflecting boundary conditions\n",
    "    destroylink(v) #Destroy social links\n",
    "    createlink(v) #Create social links\n",
    "    Plot_state(save=True) #This is the most expensive part of the code (3.35 mins for 999 frames)\n",
    "\n",
    "end = time.time()\n",
    "print(\"Time spend in runing main (mins)=\",(end - start)/60)"
   ]
  }
 ],
 "metadata": {
  "kernelspec": {
   "display_name": "Python 3",
   "language": "python",
   "name": "python3"
  },
  "language_info": {
   "codemirror_mode": {
    "name": "ipython",
    "version": 3
   },
   "file_extension": ".py",
   "mimetype": "text/x-python",
   "name": "python",
   "nbconvert_exporter": "python",
   "pygments_lexer": "ipython3",
   "version": "3.8.6"
  }
 },
 "nbformat": 4,
 "nbformat_minor": 4
}
